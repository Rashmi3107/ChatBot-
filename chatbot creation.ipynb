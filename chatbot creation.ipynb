{
 "cells": [
  {
   "cell_type": "code",
   "execution_count": 1,
   "metadata": {},
   "outputs": [
    {
     "name": "stdout",
     "output_type": "stream",
     "text": [
      "Requirement already satisfied: nltk in c:\\users\\rashmi\\anaconda3\\lib\\site-packages (3.5)\n",
      "Requirement already satisfied: tqdm in c:\\users\\rashmi\\anaconda3\\lib\\site-packages (from nltk) (4.50.2)\n",
      "Requirement already satisfied: joblib in c:\\users\\rashmi\\anaconda3\\lib\\site-packages (from nltk) (0.17.0)\n",
      "Requirement already satisfied: click in c:\\users\\rashmi\\anaconda3\\lib\\site-packages (from nltk) (7.1.2)\n",
      "Requirement already satisfied: regex in c:\\users\\rashmi\\anaconda3\\lib\\site-packages (from nltk) (2020.10.15)\n",
      "Note: you may need to restart the kernel to use updated packages.\n"
     ]
    }
   ],
   "source": [
    "pip install nltk"
   ]
  },
  {
   "cell_type": "code",
   "execution_count": 2,
   "metadata": {},
   "outputs": [],
   "source": [
    "import nltk                                      #natural language toolkit and is a beautiful library to work with in python\n",
    "import io                                        #opening a file, reading a file \n",
    "import numpy as np                               #for some numerical calculations\n",
    "import random                               # if u want to selecting something randomly from couple of spects\n",
    "import string                                # is help with string processing\n",
    "import warnings\n",
    "warnings.filterwarnings('ignore')\n"
   ]
  },
  {
   "cell_type": "code",
   "execution_count": 3,
   "metadata": {},
   "outputs": [
    {
     "name": "stderr",
     "output_type": "stream",
     "text": [
      "[nltk_data] Downloading package punkt to\n",
      "[nltk_data]     C:\\Users\\RAshmi\\AppData\\Roaming\\nltk_data...\n",
      "[nltk_data]   Package punkt is already up-to-date!\n",
      "[nltk_data] Downloading package wordnet to\n",
      "[nltk_data]     C:\\Users\\RAshmi\\AppData\\Roaming\\nltk_data...\n",
      "[nltk_data]   Package wordnet is already up-to-date!\n"
     ]
    }
   ],
   "source": [
    "# DATA READING\n",
    "\n",
    "\n",
    "f = open('C:\\chatbot details.txt','r',errors = 'ignore')  #this file is known as a document or corpus and the location where all data resides\n",
    "raw = f.read()  #reading this document \n",
    "\n",
    "#convert all to lower case i.e case conversion is very vital for data processing\n",
    "raw = raw.lower()\n",
    "\n",
    "#one time download\n",
    "nltk.download('punkt')                           #punkt because we are working with english language\n",
    "nltk.download('wordnet')                     #basically a database which consits of relationship in between each of these words\n",
    "\n",
    "# raw data to sentences\n",
    "sent_tokens = nltk.sent_tokenize(raw)           #basically convert sentences from raw data\n",
    "\n",
    "#raw data to list of words\n",
    "word_tokens = nltk.word_tokenize(raw)            #basically convert words from raw data\n",
    "\n"
   ]
  },
  {
   "cell_type": "code",
   "execution_count": 4,
   "metadata": {},
   "outputs": [
    {
     "data": {
      "text/plain": [
       "['messaging', 'apps']"
      ]
     },
     "execution_count": 4,
     "metadata": {},
     "output_type": "execute_result"
    }
   ],
   "source": [
    "#example that our tokens are working or not\n",
    "sent_tokens[:2]\n",
    "\n",
    "word_tokens[:2]\n",
    "\n"
   ]
  },
  {
   "cell_type": "code",
   "execution_count": 5,
   "metadata": {},
   "outputs": [],
   "source": [
    "#preprocessing or handling data\n",
    "lemmer = nltk.stem.WordNetLemmatizer()\n",
    "\n",
    "def LemTokens(tokens):\n",
    "    return[lemmer.lemmatize(token) for token in tokens]\n",
    "\n",
    "remove_punct_dict = dict((ord(punct), None) for punct in string.punctuation)\n",
    "\n",
    "def LemNormalize(text):\n",
    "    return LemTokens(nltk.word_tokenize(text.lower().translate(remove_punct_dict)))\n",
    "\n"
   ]
  },
  {
   "cell_type": "code",
   "execution_count": 6,
   "metadata": {},
   "outputs": [],
   "source": [
    "#programming a greet response\n",
    "GREETING_INPUTS = (\"hello\", \"hi\", \"greetings\", \"sup\", \"what's up\", \"hey\", \"How are you\", \"what is your name\",)\n",
    "GREETING_RESPONSES = [\"hi\",\"hey\", \"nods\", \"hi there\", \"hello\", \"i am glad! you are talking to me\", \"I am fine \",\n",
    "                      \"My name is chatbot\",]\n",
    "def greeting(sentence):\n",
    "    \n",
    "    for word in sentence.split(): \n",
    "        if word.lower() in GREETING_INPUTS:\n",
    "            return random.choice(GREETING_RESPONSES)\n"
   ]
  },
  {
   "cell_type": "code",
   "execution_count": 7,
   "metadata": {},
   "outputs": [],
   "source": [
    "#generate responses\n",
    "\n",
    "#tf-idf\n",
    "from sklearn.feature_extraction.text import TfidfVectorizer\n",
    "\n",
    "#cosine similarity to find similarity between user input and raw document\n",
    "from sklearn.metrics.pairwise import cosine_similarity\n",
    "\n"
   ]
  },
  {
   "cell_type": "code",
   "execution_count": 8,
   "metadata": {},
   "outputs": [],
   "source": [
    "# writing the response function\n",
    "\n",
    "def response(user_response):\n",
    "    chatbot_response=''\n",
    "    sent_tokens.append(user_response)\n",
    "    TfidfVec = TfidfVectorizer(tokenizer=LemNormalize, stop_words='english')\n",
    "    tfidf = TfidfVec.fit_transform(sent_tokens)\n",
    "    vals = cosine_similarity(tfidf[-1], tfidf)\n",
    "    idx=vals.argsort()[0][-2]\n",
    "    flat = vals.flatten()\n",
    "    flat.sort()\n",
    "    req_tfidf = flat[-2]\n",
    "    if(req_tfidf==0):\n",
    "        chatbot_response=chatbot_response+\"I am sorry! I don't understand you\"\n",
    "        return chatbot_response\n",
    "    else:\n",
    "        chatbot_response = chatbot_response+sent_tokens[idx]\n",
    "        return chatbot_response\n",
    "\n"
   ]
  },
  {
   "cell_type": "code",
   "execution_count": null,
   "metadata": {},
   "outputs": [
    {
     "name": "stdout",
     "output_type": "stream",
     "text": [
      "chatbot: My name is chatbot. I will answer your queries about chatbot. if you want to exit,just type Bye anytime!\n",
      "hi\n",
      "chatbot:hello\n",
      "hi\n",
      "chatbot:i am glad! you are talking to me\n",
      "sup\n",
      "chatbot:I am fine \n",
      "hello\n",
      "chatbot:hi there\n",
      "what's up\n",
      "chatbot: I am sorry! I don't understand you\n",
      "hlo\n",
      "chatbot: I am sorry! I don't understand you\n",
      "hello\n",
      "chatbot:My name is chatbot\n",
      "what is chatbot\n",
      "chatbot: [64]\n",
      "\n",
      "hello barbie is an internet-connected version of the doll that uses a chatbot provided by the company toytalk,[65] which previously used the chatbot for a range of smartphone-based characters for children.\n"
     ]
    }
   ],
   "source": [
    "#start and end point for conversation\n",
    "flag = True\n",
    "print(\"chatbot: My name is chatbot. I will answer your queries about chatbot. if you want to exit,just type Bye anytime!\")\n",
    "while(flag==True):\n",
    "    user_response = input()\n",
    "    user_response=user_response.lower()\n",
    "    if(user_response!='bye'):\n",
    "        if(user_response=='thanks' or user_response=='thank you'):\n",
    "            flag=False\n",
    "            print(\"chatbot: You are welcome....\")\n",
    "        else:\n",
    "            if(greeting(user_response)!=None):\n",
    "                print(\"chatbot:\" +greeting(user_response))\n",
    "            else:\n",
    "                print(\"chatbot: \",end=\"\")\n",
    "                print(response(user_response))\n",
    "                sent_tokens.remove(user_response)\n",
    "    else:\n",
    "        flag=False\n",
    "        print(\"chatbot: Bye Bye!....\")\n",
    "\n",
    "\n"
   ]
  },
  {
   "cell_type": "code",
   "execution_count": null,
   "metadata": {},
   "outputs": [],
   "source": []
  },
  {
   "cell_type": "code",
   "execution_count": null,
   "metadata": {},
   "outputs": [],
   "source": []
  },
  {
   "cell_type": "code",
   "execution_count": null,
   "metadata": {},
   "outputs": [],
   "source": []
  },
  {
   "cell_type": "code",
   "execution_count": null,
   "metadata": {},
   "outputs": [],
   "source": []
  }
 ],
 "metadata": {
  "kernelspec": {
   "display_name": "Python 3",
   "language": "python",
   "name": "python3"
  },
  "language_info": {
   "codemirror_mode": {
    "name": "ipython",
    "version": 3
   },
   "file_extension": ".py",
   "mimetype": "text/x-python",
   "name": "python",
   "nbconvert_exporter": "python",
   "pygments_lexer": "ipython3",
   "version": "3.8.5"
  }
 },
 "nbformat": 4,
 "nbformat_minor": 4
}
